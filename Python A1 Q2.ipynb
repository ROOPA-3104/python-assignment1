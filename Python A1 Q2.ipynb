{
 "cells": [
  {
   "cell_type": "markdown",
   "id": "ba415dc3-2e13-4680-91c9-05f962e1bcb2",
   "metadata": {},
   "source": [
    "Q) Describe the role of predefined keywords in the python and provide examples of how they are used in a program"
   ]
  },
  {
   "cell_type": "markdown",
   "id": "ea39c16d-6e31-47c1-ae92-ccfccd7dadc6",
   "metadata": {},
   "source": [
    "Predefined keywords in Python are reserved words that have specific meanings and functions within the language. They cannot be used as identifiers (such as variable names, function names, etc) because they are part of  the language syntax. These keywords help define the structure and flow of a Python program\n",
    "Here are some examples of predefined keywords and how they are used:\n",
    "\n",
    "\n"
   ]
  },
  {
   "cell_type": "raw",
   "id": "3ba6ef4d-6e44-4798-b59c-7a62f6ff8e7c",
   "metadata": {},
   "source": [
    "1. if, elif, else: used for condtional statements"
   ]
  },
  {
   "cell_type": "code",
   "execution_count": 1,
   "id": "05d0376a-2f8f-4f3f-bff7-07f7c88c13cf",
   "metadata": {},
   "outputs": [
    {
     "name": "stdout",
     "output_type": "stream",
     "text": [
      "positive\n"
     ]
    }
   ],
   "source": [
    "x=1\n",
    "if x>0:\n",
    "    print(\"positive\")\n",
    "elif x==0:\n",
    "    print(\"Zero\")\n",
    "else:\n",
    "    Print(\" Negative\")"
   ]
  },
  {
   "cell_type": "code",
   "execution_count": null,
   "id": "6bdb1be4-2a81-4c5a-8c4b-88ca88b1c641",
   "metadata": {},
   "outputs": [],
   "source": [
    "2.for, while : used for loops\n"
   ]
  },
  {
   "cell_type": "code",
   "execution_count": 3,
   "id": "a6e7cc0c-06fd-476f-a28b-ecef86c587dc",
   "metadata": {},
   "outputs": [
    {
     "name": "stdout",
     "output_type": "stream",
     "text": [
      "1\n",
      "2\n",
      "3\n",
      "4\n",
      "5\n",
      "6\n"
     ]
    }
   ],
   "source": [
    "n=7 \n",
    "i=1\n",
    "while i<n:\n",
    "    print(i)\n",
    "    i=i+1"
   ]
  },
  {
   "cell_type": "code",
   "execution_count": 1,
   "id": "2f8eb15e-61f8-44bc-aec9-3f13294161fc",
   "metadata": {},
   "outputs": [
    {
     "name": "stdout",
     "output_type": "stream",
     "text": [
      "5\n",
      "4\n",
      "3\n",
      "2\n",
      "1\n"
     ]
    }
   ],
   "source": [
    "count=5\n",
    "while count>0:\n",
    "    print(count)\n",
    "    count = count-1"
   ]
  },
  {
   "cell_type": "code",
   "execution_count": 2,
   "id": "bf912667-9705-40d7-965d-8aeab9eebe22",
   "metadata": {},
   "outputs": [
    {
     "name": "stdout",
     "output_type": "stream",
     "text": [
      "1\n",
      "2\n",
      "3\n",
      "4\n",
      "5\n",
      "6\n",
      "it will be executed\n"
     ]
    }
   ],
   "source": [
    "n=7 \n",
    "i=1\n",
    "while i<n:\n",
    "    print(i)\n",
    "    i=i+1\n",
    "else:\n",
    "    print(\"it will be executed\")"
   ]
  },
  {
   "cell_type": "code",
   "execution_count": 7,
   "id": "76787b64-0f7e-40f0-bd4b-d1c2ea7508a1",
   "metadata": {},
   "outputs": [
    {
     "name": "stdout",
     "output_type": "stream",
     "text": [
      " No'r 3 is not acceptable\n"
     ]
    }
   ],
   "source": [
    "n=1 \n",
    "i=7\n",
    "while i<n:\n",
    "    print(i)\n",
    "    i=i+1\n",
    "    if i == 3:\n",
    "        break\n",
    "else: print(\" No'r 3 is not acceptable\")"
   ]
  },
  {
   "cell_type": "code",
   "execution_count": 6,
   "id": "b0b8dd36-a7a7-4de0-adb4-845a0c4b4978",
   "metadata": {},
   "outputs": [
    {
     "name": "stdout",
     "output_type": "stream",
     "text": [
      "2\n",
      "4\n",
      "5\n",
      "6\n",
      "7\n",
      " while case is running successfully\n"
     ]
    }
   ],
   "source": [
    "n=7\n",
    "i=1\n",
    "while i<n:\n",
    "    i=i+1\n",
    "    if i==3:\n",
    "        continue\n",
    "    print(i)\n",
    "else:\n",
    "    print(\" while case is running successfully\")\n",
    "    "
   ]
  },
  {
   "cell_type": "code",
   "execution_count": 10,
   "id": "2ea9aced-62f3-42b6-a09c-9919f6262b73",
   "metadata": {},
   "outputs": [
    {
     "name": "stdout",
     "output_type": "stream",
     "text": [
      "1\n",
      "2\n",
      "Tejaswini\n",
      "Leela\n",
      "This will be executed when for loop ends with a break statement\n"
     ]
    }
   ],
   "source": [
    "x = [1,2,\"Roopa\", \"Tejaswini\", \"Leela\"]\n",
    "for i in x:\n",
    "    if i==\"Roopa\":\n",
    "        continue\n",
    "    print(i)\n",
    "else:\n",
    "    print(\"This will be executed when for loop ends with a break statement\")"
   ]
  },
  {
   "cell_type": "code",
   "execution_count": 13,
   "id": "1d2448cf-5017-436b-b710-6de2d4cd8726",
   "metadata": {},
   "outputs": [
    {
     "name": "stdout",
     "output_type": "stream",
     "text": [
      "0   1   2   3   4   5   6   7   8   9   "
     ]
    }
   ],
   "source": [
    "for i in range(10):\n",
    "     print(i, end=(\"   \"))\n",
    "    \n",
    "       "
   ]
  },
  {
   "cell_type": "code",
   "execution_count": null,
   "id": "d994713c-0e54-4e92-96ea-f6ff6fa5c437",
   "metadata": {},
   "outputs": [],
   "source": [
    "#Problems tatement\n",
    "# print right triangle with *(while loop)"
   ]
  },
  {
   "cell_type": "code",
   "execution_count": 6,
   "id": "bf34fb94-7486-4de3-86ec-21ba9d7d502e",
   "metadata": {},
   "outputs": [
    {
     "name": "stdout",
     "output_type": "stream",
     "text": [
      "*   \n",
      "*   *   \n",
      "*   *   *   \n",
      "*   *   *   *   \n",
      "*   *   *   *   *   \n"
     ]
    }
   ],
   "source": [
    "row=1\n",
    "while row<=5:\n",
    "    col=1\n",
    "    while col<=row:\n",
    "        print(\"*\", end=\"   \")\n",
    "        col=col+1\n",
    "    print()\n",
    "    row=row+1\n",
    "    \n"
   ]
  },
  {
   "cell_type": "code",
   "execution_count": null,
   "id": "870cac95-bceb-4d52-9c70-591df2f1559a",
   "metadata": {},
   "outputs": [],
   "source": [
    "#for loops"
   ]
  },
  {
   "cell_type": "code",
   "execution_count": 9,
   "id": "2ed3002a-8f92-471d-a782-5ea1bdc3ebff",
   "metadata": {},
   "outputs": [
    {
     "name": "stdout",
     "output_type": "stream",
     "text": [
      "*\n",
      "**\n",
      "***\n",
      "****\n",
      "*****\n"
     ]
    }
   ],
   "source": [
    "for i in range (5):\n",
    "    for j in range(i+1):\n",
    "        print(\"*\", end=\"\")\n",
    "    print()"
   ]
  },
  {
   "cell_type": "code",
   "execution_count": 12,
   "id": "771d18e2-0433-45b3-8868-5690a3a4a968",
   "metadata": {},
   "outputs": [
    {
     "name": "stdout",
     "output_type": "stream",
     "text": [
      "****\n",
      "****\n",
      "****\n",
      "****\n"
     ]
    }
   ],
   "source": [
    "for i in range (4):\n",
    "    for j in range (4):\n",
    "        print(\"*\", end=\"\")\n",
    "    print()"
   ]
  },
  {
   "cell_type": "code",
   "execution_count": 6,
   "id": "d0973a2b-5d1d-477d-910a-23837b52f5fc",
   "metadata": {},
   "outputs": [
    {
     "name": "stdout",
     "output_type": "stream",
     "text": [
      "$    $    $    $    $    $    $    $    \n",
      "$    $    $    $    $    $    $    $    \n",
      "$    $    $    $    $    $    $    $    \n"
     ]
    }
   ],
   "source": [
    "for i in range (3):\n",
    "    for j in range (8):\n",
    "        print(\"$\", end=\"    \")\n",
    "    print()"
   ]
  },
  {
   "cell_type": "code",
   "execution_count": 30,
   "id": "38e09afa-9b68-40b5-bfb1-2e5a4f6c1b4a",
   "metadata": {},
   "outputs": [
    {
     "name": "stdout",
     "output_type": "stream",
     "text": [
      "$  $  $  $  $  \n",
      "$  $  $  $  \n",
      "$  $  $  \n",
      "$  $  \n",
      "$  \n"
     ]
    }
   ],
   "source": [
    "for i in range (5):\n",
    "    for j in range ((i-1), 4):\n",
    "        print(\"$\", end=\"  \")\n",
    "    print()"
   ]
  },
  {
   "cell_type": "code",
   "execution_count": 8,
   "id": "598a9205-c661-4616-89fa-a1bf6b695733",
   "metadata": {},
   "outputs": [
    {
     "name": "stdout",
     "output_type": "stream",
     "text": [
      "     * \n",
      "    * * \n",
      "   * * * \n",
      "  * * * * \n"
     ]
    }
   ],
   "source": [
    "n=5\n",
    "for i in range(1, 5):\n",
    "    print(' '*n, end='') # repet space for n times\n",
    "    print('* '*(i)) # repeat stars for i times\n",
    "    n-=1\n",
    "    \n",
    "    \n",
    "    "
   ]
  },
  {
   "cell_type": "code",
   "execution_count": 9,
   "id": "36a1db55-ee05-429f-abe0-b52104380715",
   "metadata": {},
   "outputs": [
    {
     "name": "stdout",
     "output_type": "stream",
     "text": [
      "    *\n",
      "   ***\n",
      "  *****\n",
      " *******\n",
      "*********\n"
     ]
    }
   ],
   "source": [
    "n=5\n",
    "for i in range(1, n + 1):\n",
    "        # Print leading spaces\n",
    "        for j in range(n - i):\n",
    "            print(\" \", end=\"\")\n",
    "        \n",
    "        # Print asterisks for the current row\n",
    "        for k in range(1, 2*i):\n",
    "            print(\"*\", end=\"\")\n",
    "        print()\n",
    "   "
   ]
  }
 ],
 "metadata": {
  "kernelspec": {
   "display_name": "Python 3 (ipykernel)",
   "language": "python",
   "name": "python3"
  },
  "language_info": {
   "codemirror_mode": {
    "name": "ipython",
    "version": 3
   },
   "file_extension": ".py",
   "mimetype": "text/x-python",
   "name": "python",
   "nbconvert_exporter": "python",
   "pygments_lexer": "ipython3",
   "version": "3.10.8"
  }
 },
 "nbformat": 4,
 "nbformat_minor": 5
}
