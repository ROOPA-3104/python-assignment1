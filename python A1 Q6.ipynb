{
 "cells": [
  {
   "cell_type": "markdown",
   "id": "f7b28cdc-0119-4086-b603-1b9ce123fd63",
   "metadata": {},
   "source": [
    "How do conditonal statements work in Python? give with examples"
   ]
  },
  {
   "cell_type": "markdown",
   "id": "0e57b2dc-4922-44e6-8741-28e1f27b60e4",
   "metadata": {},
   "source": [
    "conditional statements in python allow you to execute certain pieces of code based on whether a condition is true or false. They are funamental for controlling the flow of a program. Python provides several conditional statements, includingif, elif and else"
   ]
  },
  {
   "cell_type": "markdown",
   "id": "488569ba-8acf-48a7-9913-57bf7ba16381",
   "metadata": {},
   "source": [
    "Basic structure of condiional statements"
   ]
  },
  {
   "cell_type": "markdown",
   "id": "0553e1f3-5a91-4b26-98f5-9d0746d51169",
   "metadata": {},
   "source": [
    "# if statement: The if statement evaluate a condition. If the condition is true, the block of code executed\n"
   ]
  },
  {
   "cell_type": "code",
   "execution_count": 2,
   "id": "cc3caa01-7aa9-44ff-a232-a91092e1cdfa",
   "metadata": {},
   "outputs": [
    {
     "name": "stdout",
     "output_type": "stream",
     "text": [
      "the number is greater then 0\n"
     ]
    }
   ],
   "source": [
    "a=100\n",
    "if a>0:\n",
    "    print(\"the number is greater then 0\")"
   ]
  },
  {
   "cell_type": "code",
   "execution_count": 3,
   "id": "8eeb351d-997f-488f-bc73-bd03d178ed0c",
   "metadata": {},
   "outputs": [
    {
     "name": "stdout",
     "output_type": "stream",
     "text": [
      "i will not play cricket\n"
     ]
    }
   ],
   "source": [
    "weather=\"rainy\"\n",
    "if weather==\"rainy\":\n",
    "    print(\"i will not play cricket\")"
   ]
  },
  {
   "cell_type": "code",
   "execution_count": 5,
   "id": "86567b02-591f-4a2a-9b00-bc2937506d89",
   "metadata": {},
   "outputs": [
    {
     "name": "stdout",
     "output_type": "stream",
     "text": [
      "i am studying the course\n"
     ]
    }
   ],
   "source": [
    "is_ds_course=True\n",
    "if is_ds_course:\n",
    "    print(\"i am studying the course\")"
   ]
  },
  {
   "cell_type": "code",
   "execution_count": 6,
   "id": "14987a34-a6d9-4029-82a3-3073ebe47e4d",
   "metadata": {},
   "outputs": [
    {
     "name": "stdout",
     "output_type": "stream",
     "text": [
      "you are excellent\n"
     ]
    }
   ],
   "source": [
    "grade=8\n",
    "if grade>=8:\n",
    "    print(\"you are excellent\")"
   ]
  },
  {
   "cell_type": "code",
   "execution_count": 9,
   "id": "4c759f53-3d5e-4c26-9c9f-4fae1502d5a3",
   "metadata": {},
   "outputs": [
    {
     "name": "stdout",
     "output_type": "stream",
     "text": [
      "the number is even\n"
     ]
    }
   ],
   "source": [
    "number=42\n",
    "if number%2==0:\n",
    "    print (\"the number is even\")"
   ]
  },
  {
   "cell_type": "markdown",
   "id": "06713552-2a47-44c9-bd60-28ad4a29d1a5",
   "metadata": {},
   "source": [
    "if else statements"
   ]
  },
  {
   "cell_type": "markdown",
   "id": "29ef984d-8729-41d6-90c7-a000ae485e8e",
   "metadata": {},
   "source": [
    "in real lifem decisions are based on multiple conditions "
   ]
  },
  {
   "cell_type": "code",
   "execution_count": 10,
   "id": "8ca6f014-a4e5-472a-987d-61164f2be857",
   "metadata": {},
   "outputs": [
    {
     "name": "stdout",
     "output_type": "stream",
     "text": [
      "i will be at home\n"
     ]
    }
   ],
   "source": [
    "weather=\"rainy\"\n",
    "if weather==\"rainy\":\n",
    "    print(\"i will be at home\")\n",
    "else:\n",
    "    print(\" lets have fun of rain\")"
   ]
  },
  {
   "cell_type": "code",
   "execution_count": 12,
   "id": "6fa40dc2-4895-4f20-93a2-e9e2a0f8cd6c",
   "metadata": {},
   "outputs": [
    {
     "name": "stdout",
     "output_type": "stream",
     "text": [
      "This is the number of interest\n"
     ]
    }
   ],
   "source": [
    "number=42\n",
    "if ((number %2==0)&(number > 0)):\n",
    "    print(\"This is the number of interest\")\n",
    "else:\n",
    "    print(\" The number is odd\")\n",
    "    "
   ]
  },
  {
   "cell_type": "code",
   "execution_count": 13,
   "id": "abf81929-ec1e-4060-9084-b9d706ad2102",
   "metadata": {},
   "outputs": [
    {
     "name": "stdout",
     "output_type": "stream",
     "text": [
      "you are all rounder\n"
     ]
    }
   ],
   "source": [
    "grade=8\n",
    "co_cir =True\n",
    "if ((grade>=8) and (co_cir==True)):\n",
    "    print(\"you are all rounder\")\n"
   ]
  },
  {
   "cell_type": "code",
   "execution_count": 15,
   "id": "3fa586b3-9adb-4f47-aac2-f816b5f60f28",
   "metadata": {},
   "outputs": [
    {
     "name": "stdout",
     "output_type": "stream",
     "text": [
      " the number is equal to 100\n"
     ]
    }
   ],
   "source": [
    "a=100\n",
    "if a>100:\n",
    "    print(\"this block will be executed if a is greater than 100\")\n",
    "elif a<100:\n",
    "    print(\"this block will be executed if a is lesser than 100\")\n",
    "else:\n",
    "    print(\" the number is equal to 100\")"
   ]
  },
  {
   "cell_type": "markdown",
   "id": "70b4864c-1b48-4c6d-a92e-b2397e6e76fc",
   "metadata": {},
   "source": [
    "score=80\n",
    "if score>=90:\n",
    "    print(\"grade A\")\n",
    "elif(80<=score<90):\n",
    "    print(\"grade B\")\n",
    "elif(70<=score<80):\n",
    "    print(\"gradec\")\n",
    "else:\n",
    "    print(\"grade D\")"
   ]
  },
  {
   "cell_type": "markdown",
   "id": "ac94d8ce-411f-4b9c-9a8d-e67bcf78c1b1",
   "metadata": {},
   "source": [
    "nested if statement: you can also nest if statements within other if statements to check multiple conditions"
   ]
  },
  {
   "cell_type": "code",
   "execution_count": null,
   "id": "ef67ba26-a5e9-4e63-a940-7137b4cd5679",
   "metadata": {},
   "outputs": [],
   "source": []
  },
  {
   "cell_type": "code",
   "execution_count": 24,
   "id": "fe68f7eb-adc0-41dd-bf2e-bf794c5ed683",
   "metadata": {},
   "outputs": [
    {
     "name": "stdout",
     "output_type": "stream",
     "text": [
      "both x and y are greater than 5\n"
     ]
    }
   ],
   "source": [
    "x=8\n",
    "y=7\n",
    "if x>5:\n",
    "    if y>6:\n",
    "        print(\"both x and y are greater than 5\")\n",
    "    else:\n",
    "        print(\"x is greater than 5 but y is less than 5\")\n",
    "else:\n",
    "    print(\"x is not greater than 5\")"
   ]
  },
  {
   "cell_type": "code",
   "execution_count": 25,
   "id": "e6a3675c-ee4d-47c4-a12a-5f7859d96f70",
   "metadata": {},
   "outputs": [
    {
     "name": "stdin",
     "output_type": "stream",
     "text": [
      "enter a no 65\n"
     ]
    },
    {
     "name": "stdout",
     "output_type": "stream",
     "text": [
      "the no is greater than 0 and leass than 100\n"
     ]
    }
   ],
   "source": [
    "a=int(input(\"enter a no\"))\n",
    "if a>=100:\n",
    "    print(\"The no is greater than 100\")\n",
    "elif 0<a<100:\n",
    "    print(\"the no is greater than 0 and leass than 100\")\n",
    "else:\n",
    "    print(\"This is a negative no\")"
   ]
  },
  {
   "cell_type": "code",
   "execution_count": 30,
   "id": "fa7f5d2c-afb6-4423-960a-f28a541da269",
   "metadata": {},
   "outputs": [
    {
     "name": "stdin",
     "output_type": "stream",
     "text": [
      "enter a no 110\n"
     ]
    },
    {
     "name": "stdout",
     "output_type": "stream",
     "text": [
      "The no is greater than 100\n"
     ]
    }
   ],
   "source": [
    "a=int(input(\"enter a no\"))\n",
    "if a>100:\n",
    "    print(\"The no is greater than 100\")\n",
    "elif 0<a<100:\n",
    "    print(\"the no is greater than 0 and leass than 100\")\n",
    "elif a>105:\n",
    "    print(\" The given no not in range\")\n",
    "else:\n",
    "    print(\"This is a negative no\")"
   ]
  },
  {
   "cell_type": "code",
   "execution_count": 10,
   "id": "339e79bb-ed51-46ad-a33b-96bb32860d9f",
   "metadata": {},
   "outputs": [
    {
     "name": "stdin",
     "output_type": "stream",
     "text": [
      "please enter your name ROOPA\n",
      "please enter your emailid RRR@\n",
      "please enter your password 2345\n"
     ]
    },
    {
     "name": "stdout",
     "output_type": "stream",
     "text": [
      "login/registration is successfull\n"
     ]
    }
   ],
   "source": [
    "name=input(\"please enter your name\")\n",
    "email=input(\"please enter your emailid\")\n",
    "password=input(\"please enter your password\")\n",
    "if name==\"\":\n",
    "    Print(\"please enter a valid name, cannot be empty\")\n",
    "else:\n",
    "    if \"@\" not in email:\n",
    "          print(\"please enter a valid email\")\n",
    "    else:\n",
    "        if len(password)<0:\n",
    "            print(\" not a valid password\")\n",
    "        else:\n",
    "            print(\"login/registration is successfull\")\n",
    "            \n",
    "        \n",
    "                      \n",
    "        \n",
    "            \n",
    "          \n",
    "          "
   ]
  },
  {
   "cell_type": "code",
   "execution_count": null,
   "id": "5ecc3e80-044e-4bb2-9da4-033039d44e2f",
   "metadata": {},
   "outputs": [],
   "source": []
  }
 ],
 "metadata": {
  "kernelspec": {
   "display_name": "Python 3 (ipykernel)",
   "language": "python",
   "name": "python3"
  },
  "language_info": {
   "codemirror_mode": {
    "name": "ipython",
    "version": 3
   },
   "file_extension": ".py",
   "mimetype": "text/x-python",
   "name": "python",
   "nbconvert_exporter": "python",
   "pygments_lexer": "ipython3",
   "version": "3.10.8"
  }
 },
 "nbformat": 4,
 "nbformat_minor": 5
}
