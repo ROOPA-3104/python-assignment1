{
 "cells": [
  {
   "cell_type": "markdown",
   "id": "be1de929-407e-46f2-96f1-8140cae6f6d8",
   "metadata": {},
   "source": [
    "Q) Explain Key features in Python that makes it a popular choice for make it programming\n",
    "Python popularity in programming is attributed to several  key features\n",
    "1.\tReadability and Simplicity: Python’s  syntax is clean and easy to understand, which makes it accessible to beginners and helps experienced developers write clear, maintainable code.\n",
    "2.\tExtensive Standard Library: Python comes with a rich standard library that supports many common programming tasks such as file I/O, System calls, and internet protocols\n",
    "3.\tLarge Ecosystem and Libraries: There are numerous third party libraries and frameworks available for Python, including NumPy, Pandas, Django, Flask and TensorFlow, which supports tasks ranging from web development to data analysis and machine learning\n",
    "4.\tCross-Platform Compatibility: Python runs on various operating systems including windows, macOs, and Linux, which makes it a versatile choice for developers\n",
    "5.\tCommunity support: Python has a large active community that contributes to a wealth of resources, including extensive documentation, tutorials and forums for problem solving\n",
    "6.\tInterpreted Language: Python is an interpreted language, meaning code can be executed line by line, which makes debugging easier and more efficient\n",
    "7.\tIntegration capabilities: python can easily integrate with other languages and technologies, making it useful for building applications that require various technologies\n",
    "8.\tVersatility: Python is a general purpose language suitable for a wide range of applications, including web development, data science, artificial intelligence, scientific computing, and automation\n",
    "These features collectively contribute to Python’s popularity and widespread use in the programming community\n",
    "\n"
   ]
  }
 ],
 "metadata": {
  "kernelspec": {
   "display_name": "Python 3 (ipykernel)",
   "language": "python",
   "name": "python3"
  },
  "language_info": {
   "codemirror_mode": {
    "name": "ipython",
    "version": 3
   },
   "file_extension": ".py",
   "mimetype": "text/x-python",
   "name": "python",
   "nbconvert_exporter": "python",
   "pygments_lexer": "ipython3",
   "version": "3.10.8"
  }
 },
 "nbformat": 4,
 "nbformat_minor": 5
}
