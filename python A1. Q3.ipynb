{
 "cells": [
  {
   "cell_type": "markdown",
   "id": "92895647-380b-4340-805a-332043c9240e",
   "metadata": {},
   "source": [
    "Compare and Contrast Mutable and Immutable objects in Python with Examples"
   ]
  },
  {
   "cell_type": "raw",
   "id": "f4d4cbab-3dfc-4ff1-acfe-06a10cdeb8f2",
   "metadata": {},
   "source": [
    "in Python, objects can be classified as either mutable or immutable based on whether their state can be changed after they are created . Here;s a brief overview of both"
   ]
  },
  {
   "cell_type": "markdown",
   "id": "c2c05cfc-f6f5-4ad0-8eff-49fee4c00381",
   "metadata": {},
   "source": [
    "Mutable objects: Mutable objects can be modified after their creation. This means you can change their content or state without creating a new object.common examples include"
   ]
  },
  {
   "cell_type": "markdown",
   "id": "5f8f3f3d-aedf-40c4-a12f-b75e74edbbdd",
   "metadata": {},
   "source": [
    "1. :list can add, remove or modify elements in a list"
   ]
  },
  {
   "cell_type": "code",
   "execution_count": 3,
   "id": "eed27136-acb8-484f-8bae-d6d3ffab1a90",
   "metadata": {},
   "outputs": [
    {
     "data": {
      "text/plain": [
       "[1, 2, 3, 4.3, (5+6j), 'Roopa', 'Tejaswini']"
      ]
     },
     "execution_count": 3,
     "metadata": {},
     "output_type": "execute_result"
    }
   ],
   "source": [
    "list_count=[1,2,3,4.3, (5+6j), \"Roopa\", \"Tejaswini\"]\n",
    "list_count"
   ]
  },
  {
   "cell_type": "code",
   "execution_count": 4,
   "id": "16ff0124-578d-4d19-8d99-085f3029fade",
   "metadata": {},
   "outputs": [
    {
     "data": {
      "text/plain": [
       "3"
      ]
     },
     "execution_count": 4,
     "metadata": {},
     "output_type": "execute_result"
    }
   ],
   "source": [
    "list_count[2]"
   ]
  },
  {
   "cell_type": "code",
   "execution_count": 5,
   "id": "766c4dba-f02c-4975-af11-27128bc1ebe1",
   "metadata": {},
   "outputs": [
    {
     "data": {
      "text/plain": [
       "list"
      ]
     },
     "execution_count": 5,
     "metadata": {},
     "output_type": "execute_result"
    }
   ],
   "source": [
    "type(list_count)"
   ]
  },
  {
   "cell_type": "code",
   "execution_count": 7,
   "id": "003989eb-8b08-42f1-99dc-064a136c5663",
   "metadata": {},
   "outputs": [],
   "source": [
    "list_count[6]=\"pw skills\""
   ]
  },
  {
   "cell_type": "code",
   "execution_count": 8,
   "id": "249429fb-c9bb-4f8c-96a3-7d91e5562bb6",
   "metadata": {},
   "outputs": [
    {
     "data": {
      "text/plain": [
       "[1, 2, 3, 4.3, (5+6j), 'Roopa', 'pw skills']"
      ]
     },
     "execution_count": 8,
     "metadata": {},
     "output_type": "execute_result"
    }
   ],
   "source": [
    "list_count"
   ]
  },
  {
   "cell_type": "markdown",
   "id": "a83606fe-969e-47fe-b5f8-dd1bac04be5b",
   "metadata": {},
   "source": [
    "2.Immutable Objects: Immutable objects cannot be modified after their creation.Any changes to an immutable object will result in the creation of a new object. Common examples include"
   ]
  },
  {
   "cell_type": "code",
   "execution_count": 17,
   "id": "2fd88c48-dbcd-41d2-84da-92efeb2cb6b1",
   "metadata": {},
   "outputs": [
    {
     "data": {
      "text/plain": [
       "'pwskills'"
      ]
     },
     "execution_count": 17,
     "metadata": {},
     "output_type": "execute_result"
    }
   ],
   "source": [
    "b=\"pwskills\"\n",
    "b"
   ]
  },
  {
   "cell_type": "code",
   "execution_count": 18,
   "id": "c3a48970-512f-46a6-ac15-08ee9b167490",
   "metadata": {},
   "outputs": [
    {
     "ename": "TypeError",
     "evalue": "'str' object does not support item assignment",
     "output_type": "error",
     "traceback": [
      "\u001b[0;31m---------------------------------------------------------------------------\u001b[0m",
      "\u001b[0;31mTypeError\u001b[0m                                 Traceback (most recent call last)",
      "Cell \u001b[0;32mIn[18], line 1\u001b[0m\n\u001b[0;32m----> 1\u001b[0m \u001b[43mb\u001b[49m\u001b[43m[\u001b[49m\u001b[38;5;241;43m0\u001b[39;49m\u001b[43m]\u001b[49m\u001b[38;5;241m=\u001b[39m\u001b[38;5;124m\"\u001b[39m\u001b[38;5;124ms\u001b[39m\u001b[38;5;124m\"\u001b[39m\n",
      "\u001b[0;31mTypeError\u001b[0m: 'str' object does not support item assignment"
     ]
    }
   ],
   "source": [
    "b[0]=\"s\""
   ]
  },
  {
   "cell_type": "markdown",
   "id": "6c66f0d6-ac9c-4b7f-8235-b42401fbad25",
   "metadata": {},
   "source": [
    "1.Strings: Any modifiication results in a new string"
   ]
  },
  {
   "cell_type": "code",
   "execution_count": 12,
   "id": "b02158ef-b6fa-4fa8-b0ad-1c3c9b4a3998",
   "metadata": {},
   "outputs": [
    {
     "name": "stdout",
     "output_type": "stream",
     "text": [
      "hellohii\n"
     ]
    }
   ],
   "source": [
    "my_str = \"hello\"\n",
    "new_str = my_str + (\"hii\")\n",
    "print(new_str)"
   ]
  },
  {
   "cell_type": "markdown",
   "id": "d2a20a18-7401-4d53-af8c-7b0596ff32cd",
   "metadata": {},
   "source": [
    "2. Tuples: they are similar to lists but cannot be changed"
   ]
  },
  {
   "cell_type": "code",
   "execution_count": 6,
   "id": "a8c0532b-ca6a-4c2c-9cfd-3e3b3a9a4083",
   "metadata": {
    "jp-MarkdownHeadingCollapsed": true,
    "tags": []
   },
   "outputs": [
    {
     "name": "stdout",
     "output_type": "stream",
     "text": [
      "(1, 2, 3, 4)\n"
     ]
    }
   ],
   "source": [
    "my_tuple=(1,2,3)\n",
    "new_tuple= my_tuple + (4,)\n",
    "print(new_tuple)"
   ]
  },
  {
   "cell_type": "markdown",
   "id": "038d315f-6a23-4110-86d8-f339862751c1",
   "metadata": {},
   "source": [
    "3. Integers: changing the value creates a new integer object."
   ]
  },
  {
   "cell_type": "code",
   "execution_count": 14,
   "id": "84146153-22e4-4553-9ad0-17e2de7e2b62",
   "metadata": {},
   "outputs": [
    {
     "name": "stdout",
     "output_type": "stream",
     "text": [
      "6\n"
     ]
    }
   ],
   "source": [
    "my_int =5\n",
    "my_int+=1\n",
    "print(my_int)"
   ]
  },
  {
   "cell_type": "markdown",
   "id": "2902706c-ac0d-4593-8143-e2bcf191b7c1",
   "metadata": {},
   "source": [
    "4.Floats: Similar to integers, any modification results in a new float object"
   ]
  },
  {
   "cell_type": "code",
   "execution_count": 15,
   "id": "dee18ce7-5fcf-4b1b-adea-fc34af2ad446",
   "metadata": {},
   "outputs": [
    {
     "name": "stdout",
     "output_type": "stream",
     "text": [
      "3.5\n"
     ]
    }
   ],
   "source": [
    "my_float=1.5\n",
    "my_float+=2\n",
    "print(my_float)"
   ]
  },
  {
   "cell_type": "markdown",
   "id": "f38625d5-e1dc-4b9e-b289-409b5a179022",
   "metadata": {},
   "source": [
    "understanding whether an object is mutable or immutable is crucial for writing efficeint and bug-gree Python code. Mutable objects can be more memory efficient when frequent updates are required, while updates are required, while immutable objects are generally safer to use in concurrent or multi theraded environments due to their unchangeabe nature."
   ]
  },
  {
   "cell_type": "code",
   "execution_count": null,
   "id": "2c45c608-12d0-4789-bbe1-c41a7963caea",
   "metadata": {},
   "outputs": [],
   "source": []
  }
 ],
 "metadata": {
  "kernelspec": {
   "display_name": "Python 3 (ipykernel)",
   "language": "python",
   "name": "python3"
  },
  "language_info": {
   "codemirror_mode": {
    "name": "ipython",
    "version": 3
   },
   "file_extension": ".py",
   "mimetype": "text/x-python",
   "name": "python",
   "nbconvert_exporter": "python",
   "pygments_lexer": "ipython3",
   "version": "3.10.8"
  }
 },
 "nbformat": 4,
 "nbformat_minor": 5
}
