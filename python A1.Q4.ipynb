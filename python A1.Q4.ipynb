{
 "cells": [
  {
   "cell_type": "markdown",
   "id": "5daa5348-0d69-4bdc-9e61-eba1ebe941f1",
   "metadata": {},
   "source": [
    "Q)Discuss different types of operators in python and provide examples of how they are used"
   ]
  },
  {
   "cell_type": "markdown",
   "id": "dce44a08-8914-49a4-a261-ca11a14c62d1",
   "metadata": {},
   "source": [
    "Python supports several types of opeators, each serving different purposes in expressions and operations . Here an overview of the various  types of operators in python along with exampleas"
   ]
  },
  {
   "cell_type": "markdown",
   "id": "dfaceb93-326d-46da-80d7-267b8e5cd6e3",
   "metadata": {},
   "source": [
    "Arthematic Operators: arthematic opeators are used to perform mathematical operations"
   ]
  },
  {
   "cell_type": "code",
   "execution_count": 1,
   "id": "d81ab1cb-e79b-4a6a-88d4-5c4eae321f47",
   "metadata": {},
   "outputs": [
    {
     "data": {
      "text/plain": [
       "8"
      ]
     },
     "execution_count": 1,
     "metadata": {},
     "output_type": "execute_result"
    }
   ],
   "source": [
    "#Addition\n",
    "a=3\n",
    "b=5\n",
    "a+b"
   ]
  },
  {
   "cell_type": "code",
   "execution_count": 3,
   "id": "ee0390f2-7f72-4dfb-bb66-032036e0aad9",
   "metadata": {},
   "outputs": [
    {
     "data": {
      "text/plain": [
       "4"
      ]
     },
     "execution_count": 3,
     "metadata": {},
     "output_type": "execute_result"
    }
   ],
   "source": [
    "#Substraction\n",
    "a=10\n",
    "b=6\n",
    "a-b"
   ]
  },
  {
   "cell_type": "code",
   "execution_count": 4,
   "id": "dc8d9943-8ab7-4fe4-a1bb-8aa43a569000",
   "metadata": {},
   "outputs": [
    {
     "data": {
      "text/plain": [
       "150"
      ]
     },
     "execution_count": 4,
     "metadata": {},
     "output_type": "execute_result"
    }
   ],
   "source": [
    "#Multiplication\n",
    "a=10\n",
    "b=15\n",
    "a*b"
   ]
  },
  {
   "cell_type": "code",
   "execution_count": 7,
   "id": "b973d59d-7b7e-4820-97e0-dcb1a5fe5641",
   "metadata": {},
   "outputs": [
    {
     "data": {
      "text/plain": [
       "1"
      ]
     },
     "execution_count": 7,
     "metadata": {},
     "output_type": "execute_result"
    }
   ],
   "source": [
    "#Floor Division\n",
    "a=3\n",
    "b=2\n",
    "a//b\n"
   ]
  },
  {
   "cell_type": "code",
   "execution_count": 9,
   "id": "e06fce99-307c-4db1-af1e-ef4984cc79da",
   "metadata": {},
   "outputs": [
    {
     "data": {
      "text/plain": [
       "4"
      ]
     },
     "execution_count": 9,
     "metadata": {},
     "output_type": "execute_result"
    }
   ],
   "source": [
    "# Modulus(Remainder)\n",
    "a=10\n",
    "b=6\n",
    "a%b"
   ]
  },
  {
   "cell_type": "code",
   "execution_count": 10,
   "id": "bb743d1f-abee-4e5a-b5f2-908738f38b36",
   "metadata": {},
   "outputs": [
    {
     "data": {
      "text/plain": [
       "243"
      ]
     },
     "execution_count": 10,
     "metadata": {},
     "output_type": "execute_result"
    }
   ],
   "source": [
    "#exponential\n",
    "a=3\n",
    "b=5\n",
    "a**b"
   ]
  },
  {
   "cell_type": "raw",
   "id": "36424127-952b-4103-9bf8-ea8a18e6cc1c",
   "metadata": {},
   "source": [
    "Comparision Operator:  comparision operators compare values and return a Boolean value"
   ]
  },
  {
   "cell_type": "code",
   "execution_count": 11,
   "id": "7c4e5168-fc4c-4a78-ac12-e521ba37dab9",
   "metadata": {},
   "outputs": [
    {
     "data": {
      "text/plain": [
       "True"
      ]
     },
     "execution_count": 11,
     "metadata": {},
     "output_type": "execute_result"
    }
   ],
   "source": [
    "#Equal to operator\n",
    "a=5\n",
    "b=10\n",
    "a*2==b"
   ]
  },
  {
   "cell_type": "code",
   "execution_count": 12,
   "id": "7f470eaf-3d14-44ba-a991-8b7ce68cac9f",
   "metadata": {},
   "outputs": [
    {
     "data": {
      "text/plain": [
       "False"
      ]
     },
     "execution_count": 12,
     "metadata": {},
     "output_type": "execute_result"
    }
   ],
   "source": [
    "#Not equal to operator\n",
    "a=10\n",
    "b=6\n",
    "a==b"
   ]
  },
  {
   "cell_type": "code",
   "execution_count": 15,
   "id": "6771995a-8005-4162-a084-11e5898806e9",
   "metadata": {},
   "outputs": [
    {
     "data": {
      "text/plain": [
       "True"
      ]
     },
     "execution_count": 15,
     "metadata": {},
     "output_type": "execute_result"
    }
   ],
   "source": [
    "#Greater Than Operator\n",
    "Result==(3>2)"
   ]
  },
  {
   "cell_type": "markdown",
   "id": "116a423b-206e-40c5-a128-d9017036d030",
   "metadata": {},
   "source": [
    "3.Logical Operators: Logical operators are used to combine conditional statements(and, or, not )\n"
   ]
  },
  {
   "cell_type": "code",
   "execution_count": 16,
   "id": "5bbeb337-98db-4681-be91-53a1daa421ab",
   "metadata": {},
   "outputs": [
    {
     "data": {
      "text/plain": [
       "False"
      ]
     },
     "execution_count": 16,
     "metadata": {},
     "output_type": "execute_result"
    }
   ],
   "source": [
    "True and False"
   ]
  },
  {
   "cell_type": "code",
   "execution_count": 17,
   "id": "83798595-8d1c-4a9a-a6f7-c0ed5b0e8ae8",
   "metadata": {},
   "outputs": [
    {
     "data": {
      "text/plain": [
       "True"
      ]
     },
     "execution_count": 17,
     "metadata": {},
     "output_type": "execute_result"
    }
   ],
   "source": [
    "False or True"
   ]
  },
  {
   "cell_type": "code",
   "execution_count": 19,
   "id": "6cafc462-db9c-4960-8a04-db42ca4336f8",
   "metadata": {},
   "outputs": [
    {
     "data": {
      "text/plain": [
       "False"
      ]
     },
     "execution_count": 19,
     "metadata": {},
     "output_type": "execute_result"
    }
   ],
   "source": [
    "not True"
   ]
  },
  {
   "cell_type": "markdown",
   "id": "d2e4627e-e4ab-44ff-8696-8f6fbe64d910",
   "metadata": {},
   "source": [
    "4. Bitwise Operators: Bitwise operators perform opeations on Binary numbers"
   ]
  },
  {
   "cell_type": "code",
   "execution_count": 20,
   "id": "8b9e227c-2af3-4e8d-9e6d-65c79eca64f7",
   "metadata": {},
   "outputs": [
    {
     "data": {
      "text/plain": [
       "10"
      ]
     },
     "execution_count": 20,
     "metadata": {},
     "output_type": "execute_result"
    }
   ],
   "source": [
    "# and Operator\n",
    "10&10"
   ]
  },
  {
   "cell_type": "code",
   "execution_count": 21,
   "id": "9a9c9782-7008-4d78-9e3b-6f48a1b00b34",
   "metadata": {},
   "outputs": [
    {
     "data": {
      "text/plain": [
       "'0b1010'"
      ]
     },
     "execution_count": 21,
     "metadata": {},
     "output_type": "execute_result"
    }
   ],
   "source": [
    "bin(10)"
   ]
  },
  {
   "cell_type": "code",
   "execution_count": 22,
   "id": "f6cf8185-7650-4344-a76d-41ea0df74441",
   "metadata": {},
   "outputs": [
    {
     "data": {
      "text/plain": [
       "17"
      ]
     },
     "execution_count": 22,
     "metadata": {},
     "output_type": "execute_result"
    }
   ],
   "source": [
    "23&25"
   ]
  },
  {
   "cell_type": "code",
   "execution_count": 23,
   "id": "4a23c56d-4eee-42a7-919e-42a6394e2217",
   "metadata": {},
   "outputs": [
    {
     "data": {
      "text/plain": [
       "'0b10001'"
      ]
     },
     "execution_count": 23,
     "metadata": {},
     "output_type": "execute_result"
    }
   ],
   "source": [
    "bin(17)"
   ]
  },
  {
   "cell_type": "code",
   "execution_count": 25,
   "id": "5d13cf05-c69e-4c9e-bed9-f28916ca972c",
   "metadata": {},
   "outputs": [
    {
     "data": {
      "text/plain": [
       "'0b11000'"
      ]
     },
     "execution_count": 25,
     "metadata": {},
     "output_type": "execute_result"
    }
   ],
   "source": [
    "bin(24)"
   ]
  },
  {
   "cell_type": "code",
   "execution_count": 29,
   "id": "10a277a9-14db-4527-9f10-5b4f0cc1fd0a",
   "metadata": {},
   "outputs": [
    {
     "data": {
      "text/plain": [
       "7"
      ]
     },
     "execution_count": 29,
     "metadata": {},
     "output_type": "execute_result"
    }
   ],
   "source": [
    "# or operator\n",
    "3|5"
   ]
  },
  {
   "cell_type": "code",
   "execution_count": 33,
   "id": "d20cbbce-2bbe-4b9c-a2d9-bd57d85e9a64",
   "metadata": {},
   "outputs": [
    {
     "data": {
      "text/plain": [
       "7"
      ]
     },
     "execution_count": 33,
     "metadata": {},
     "output_type": "execute_result"
    }
   ],
   "source": [
    "# XOR Operator\n",
    "5^2"
   ]
  },
  {
   "cell_type": "code",
   "execution_count": 34,
   "id": "e4bdb7f0-7c82-4c0c-8d56-8dd5c8dd9814",
   "metadata": {},
   "outputs": [
    {
     "data": {
      "text/plain": [
       "-4"
      ]
     },
     "execution_count": 34,
     "metadata": {},
     "output_type": "execute_result"
    }
   ],
   "source": [
    "~3 #gives value one greater with negative symbol"
   ]
  },
  {
   "cell_type": "code",
   "execution_count": 35,
   "id": "7a1263c2-d461-44a4-adcc-4a9c5c29ca48",
   "metadata": {},
   "outputs": [
    {
     "data": {
      "text/plain": [
       "-101"
      ]
     },
     "execution_count": 35,
     "metadata": {},
     "output_type": "execute_result"
    }
   ],
   "source": [
    "~100"
   ]
  },
  {
   "cell_type": "code",
   "execution_count": 37,
   "id": "63eec752-79b3-419d-9bf3-d02e63d078ed",
   "metadata": {},
   "outputs": [
    {
     "data": {
      "text/plain": [
       "6"
      ]
     },
     "execution_count": 37,
     "metadata": {},
     "output_type": "execute_result"
    }
   ],
   "source": [
    "#left Shift operator\n",
    "3<<1"
   ]
  },
  {
   "cell_type": "code",
   "execution_count": 39,
   "id": "3091fba7-1053-4092-b108-86b98af87399",
   "metadata": {},
   "outputs": [
    {
     "data": {
      "text/plain": [
       "1"
      ]
     },
     "execution_count": 39,
     "metadata": {},
     "output_type": "execute_result"
    }
   ],
   "source": [
    "#right shift operator\n",
    "3>>1"
   ]
  },
  {
   "cell_type": "markdown",
   "id": "b6be7519-3811-40c4-b8d4-f881b2000d88",
   "metadata": {},
   "source": [
    "Assignment operator: assigns value to a variable\n",
    "\n"
   ]
  },
  {
   "cell_type": "code",
   "execution_count": 42,
   "id": "b10639c4-e66b-47ca-bbc3-ac0684223962",
   "metadata": {},
   "outputs": [
    {
     "data": {
      "text/plain": [
       "7"
      ]
     },
     "execution_count": 42,
     "metadata": {},
     "output_type": "execute_result"
    }
   ],
   "source": [
    "#add and assign\n",
    "a=5\n",
    "a+=2\n",
    "a"
   ]
  },
  {
   "cell_type": "code",
   "execution_count": 43,
   "id": "eb013831-fc23-4878-8a95-a834c24586ed",
   "metadata": {},
   "outputs": [
    {
     "data": {
      "text/plain": [
       "5"
      ]
     },
     "execution_count": 43,
     "metadata": {},
     "output_type": "execute_result"
    }
   ],
   "source": [
    "#substract and assign\n",
    "a=10\n",
    "a-=5\n",
    "a"
   ]
  },
  {
   "cell_type": "markdown",
   "id": "cb404e4d-62cd-443e-8efa-1e6a42a9ea87",
   "metadata": {},
   "source": [
    "Identity Operator: identity operators compare the memory locaitons of two loops"
   ]
  },
  {
   "cell_type": "code",
   "execution_count": 44,
   "id": "557426c4-a9cb-4b72-810e-2f248bf776d8",
   "metadata": {},
   "outputs": [
    {
     "data": {
      "text/plain": [
       "False"
      ]
     },
     "execution_count": 44,
     "metadata": {},
     "output_type": "execute_result"
    }
   ],
   "source": [
    "#is operator\n",
    "a=2\n",
    "b=3\n",
    "a is b"
   ]
  },
  {
   "cell_type": "code",
   "execution_count": 45,
   "id": "fad426a1-297d-473f-8a75-be33cf05b5f8",
   "metadata": {},
   "outputs": [
    {
     "data": {
      "text/plain": [
       "True"
      ]
     },
     "execution_count": 45,
     "metadata": {},
     "output_type": "execute_result"
    }
   ],
   "source": [
    "#is not operator \n",
    "a is not b"
   ]
  },
  {
   "cell_type": "code",
   "execution_count": 46,
   "id": "ce19acc8-26f3-41b9-b2ef-e2cd686cbcb3",
   "metadata": {},
   "outputs": [
    {
     "data": {
      "text/plain": [
       "True"
      ]
     },
     "execution_count": 46,
     "metadata": {},
     "output_type": "execute_result"
    }
   ],
   "source": [
    "a=2\n",
    "b=a\n",
    "b is a "
   ]
  },
  {
   "cell_type": "markdown",
   "id": "bb97dac1-f2f3-45b5-a56d-eed00079bddb",
   "metadata": {},
   "source": [
    "membership Operator: test for membership in a sequence(e.g, lists, strings)\n"
   ]
  },
  {
   "cell_type": "code",
   "execution_count": 47,
   "id": "2c1c0899-2432-4368-8c3d-eb5feccafd86",
   "metadata": {},
   "outputs": [
    {
     "data": {
      "text/plain": [
       "True"
      ]
     },
     "execution_count": 47,
     "metadata": {},
     "output_type": "execute_result"
    }
   ],
   "source": [
    "a=\"pwskills\"\n",
    "\"p\"in a "
   ]
  },
  {
   "cell_type": "code",
   "execution_count": 48,
   "id": "7b2c68c2-c1db-4b6c-8385-019d64191254",
   "metadata": {},
   "outputs": [
    {
     "data": {
      "text/plain": [
       "False"
      ]
     },
     "execution_count": 48,
     "metadata": {},
     "output_type": "execute_result"
    }
   ],
   "source": [
    "\"p\" not in a "
   ]
  },
  {
   "cell_type": "code",
   "execution_count": 50,
   "id": "2b4d87d8-8391-42d6-9fb1-50b2870290e7",
   "metadata": {},
   "outputs": [
    {
     "data": {
      "text/plain": [
       "False"
      ]
     },
     "execution_count": 50,
     "metadata": {},
     "output_type": "execute_result"
    }
   ],
   "source": [
    "\"w\"  not in a"
   ]
  },
  {
   "cell_type": "code",
   "execution_count": 52,
   "id": "d14dab50-67d0-49a1-978b-36cd1542a717",
   "metadata": {},
   "outputs": [
    {
     "data": {
      "text/plain": [
       "True"
      ]
     },
     "execution_count": 52,
     "metadata": {},
     "output_type": "execute_result"
    }
   ],
   "source": [
    "a=[\"data\", \"analytics\", \"science\"]\n",
    "\"data\" in a "
   ]
  },
  {
   "cell_type": "markdown",
   "id": "e3152895-d792-479a-b955-63c7ff2f1c6e",
   "metadata": {},
   "source": [
    "These operators allow you to perform various computations and checks in your python programs, making them fundamental tools  for programming logic and fucntionality"
   ]
  }
 ],
 "metadata": {
  "kernelspec": {
   "display_name": "Python 3 (ipykernel)",
   "language": "python",
   "name": "python3"
  },
  "language_info": {
   "codemirror_mode": {
    "name": "ipython",
    "version": 3
   },
   "file_extension": ".py",
   "mimetype": "text/x-python",
   "name": "python",
   "nbconvert_exporter": "python",
   "pygments_lexer": "ipython3",
   "version": "3.10.8"
  }
 },
 "nbformat": 4,
 "nbformat_minor": 5
}
