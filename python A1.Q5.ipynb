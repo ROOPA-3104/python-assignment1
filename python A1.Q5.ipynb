{
 "cells": [
  {
   "cell_type": "markdown",
   "id": "4a90139d-6dd5-4db7-bdce-83b01e9ba9d5",
   "metadata": {},
   "source": [
    "Explain concept of type casting in python with examples\n"
   ]
  },
  {
   "cell_type": "code",
   "execution_count": null,
   "id": "83fc874a-8ae0-4e35-814e-b4d9937c071d",
   "metadata": {},
   "outputs": [],
   "source": []
  },
  {
   "cell_type": "markdown",
   "id": "b79045a9-4ee9-4469-92f1-ca7252d2548b",
   "metadata": {},
   "source": [
    "Type casting in python is the process of converting  a variable from one data type to another. This can be done explicitly by using python's built in funcitons. Here's a brief overview of typecasting along with examples\n"
   ]
  },
  {
   "cell_type": "markdown",
   "id": "24eaa298-ddd1-4908-b67d-5d1b17d2990c",
   "metadata": {},
   "source": [
    "\n",
    "Python provides several built in functions for explicit type conversion"
   ]
  },
  {
   "cell_type": "code",
   "execution_count": null,
   "id": "499e65f4-502b-4d4b-9535-d154154f72ad",
   "metadata": {},
   "outputs": [],
   "source": [
    "a=5\n",
    "type(a)"
   ]
  },
  {
   "cell_type": "code",
   "execution_count": null,
   "id": "db20050d-4a48-4bb4-b324-8dd911bc7c5b",
   "metadata": {},
   "outputs": [],
   "source": [
    "#. int() converts a value to an integer\n",
    "float_num=3.14\n",
    "int_num= int(float_num)\n",
    "int_num"
   ]
  },
  {
   "cell_type": "code",
   "execution_count": null,
   "id": "8a6d003d-2ba6-482c-abdd-a10537ba2590",
   "metadata": {},
   "outputs": [],
   "source": [
    "#float(): converts a value to a floating point number\n",
    "int_num=3\n",
    "float_num= float(int_num)\n",
    "float_num"
   ]
  },
  {
   "cell_type": "code",
   "execution_count": null,
   "id": "f6809034-455e-48b3-9b77-5586de9d150f",
   "metadata": {},
   "outputs": [],
   "source": [
    "#str(): converts a value to a string\n",
    "int_num=5\n",
    "str=str(int_num)\n",
    "str"
   ]
  },
  {
   "cell_type": "code",
   "execution_count": null,
   "id": "6e441e2e-e65f-4fe0-8ab6-f57f3d129721",
   "metadata": {},
   "outputs": [],
   "source": [
    "#tuple(): converts value to a tuple\n",
    "list_value=[1,2,3,]\n",
    "tuple_value=tuple(list_value)\n",
    "tuple_value"
   ]
  },
  {
   "cell_type": "code",
   "execution_count": null,
   "id": "ee68b6f8-aeb9-4eee-833b-9c8171d004ea",
   "metadata": {},
   "outputs": [],
   "source": [
    "#set(): converts value to a set"
   ]
  },
  {
   "cell_type": "markdown",
   "id": "b5d90cb9-2de1-4c0f-aa2c-670b175da981",
   "metadata": {},
   "source": [
    "Implicit Typecasting\n",
    "Python  sometimes automatically converts one data type to another in certain operations. This is known as implicit type conversion or coercion\n"
   ]
  },
  {
   "cell_type": "code",
   "execution_count": null,
   "id": "c172ed3f-57f5-4138-9eea-98fa2ae8e588",
   "metadata": {},
   "outputs": [],
   "source": [
    "2+3.5"
   ]
  },
  {
   "cell_type": "code",
   "execution_count": null,
   "id": "68d5e4b1-0952-4b47-a10a-c4c7a6086ed0",
   "metadata": {},
   "outputs": [],
   "source": [
    "#explicity type casing\n",
    "a=\"2\"\n",
    "type(a)"
   ]
  },
  {
   "cell_type": "markdown",
   "id": "23d6d63c-4bdd-47dd-8f78-4e6766727bb6",
   "metadata": {},
   "source": [
    "#explicity type casing : convert data type using inbuilt funcitons"
   ]
  },
  {
   "cell_type": "code",
   "execution_count": null,
   "id": "3e0aa2e7-a731-48e0-a6e7-b6f983ba9bb2",
   "metadata": {},
   "outputs": [],
   "source": [
    "\n",
    "#concatenation of a string\n",
    "a=\"Roopa\"\n",
    "b=\"kumar gupta\"\n",
    "a  +  b\n"
   ]
  },
  {
   "cell_type": "code",
   "execution_count": 1,
   "id": "52cb7692-62d6-490f-9fb9-f1bdacbc01bf",
   "metadata": {},
   "outputs": [
    {
     "data": {
      "text/plain": [
       "'pwskills'"
      ]
     },
     "execution_count": 1,
     "metadata": {},
     "output_type": "execute_result"
    }
   ],
   "source": [
    "\"pw\" + \"skills\"\n"
   ]
  },
  {
   "cell_type": "code",
   "execution_count": null,
   "id": "8481c634-b497-4d18-be67-11e9c35b28f3",
   "metadata": {},
   "outputs": [],
   "source": [
    "\"100 \"+ \"ajay\" "
   ]
  },
  {
   "cell_type": "markdown",
   "id": "1dc3ba08-f496-4b69-8e57-c51705c53efc",
   "metadata": {},
   "source": [
    "type casting is an essential feature in python that allows you to work with different data types flexibility and efficiently. ensuring your data is in the correct format for your operations and calculations"
   ]
  },
  {
   "cell_type": "code",
   "execution_count": null,
   "id": "c2c54648-71cc-4515-a8ce-bace5481a2f2",
   "metadata": {},
   "outputs": [],
   "source": []
  }
 ],
 "metadata": {
  "kernelspec": {
   "display_name": "Python 3 (ipykernel)",
   "language": "python",
   "name": "python3"
  },
  "language_info": {
   "codemirror_mode": {
    "name": "ipython",
    "version": 3
   },
   "file_extension": ".py",
   "mimetype": "text/x-python",
   "name": "python",
   "nbconvert_exporter": "python",
   "pygments_lexer": "ipython3",
   "version": "3.10.8"
  }
 },
 "nbformat": 4,
 "nbformat_minor": 5
}
