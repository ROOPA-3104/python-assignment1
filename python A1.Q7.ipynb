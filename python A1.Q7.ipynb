{
 "cells": [
  {
   "cell_type": "markdown",
   "id": "7f930fe1-4f49-4442-9f81-5099d333e7a3",
   "metadata": {},
   "source": [
    "Q7)Describe different types of loops in python and their use cases with examples\n"
   ]
  },
  {
   "cell_type": "markdown",
   "id": "d1778d61-78c3-47b3-9097-20b11a5d4440",
   "metadata": {},
   "source": [
    "python provides two main types of loops : for loops and while loops.\n",
    "each has its own use cases and is suited for different kinds of tasks. here an overview of both types of loops and their use cases, with examples\n"
   ]
  },
  {
   "cell_type": "markdown",
   "id": "633c463f-67b5-442e-b99d-b84ed5de58c3",
   "metadata": {
    "jp-MarkdownHeadingCollapsed": true,
    "tags": []
   },
   "source": [
    "for loops: used to iterate over a sequence (such as a list, tuple, dictionary, set, or string(and execute a block of code for each element in the sequence\n",
    "use cases: \n",
    "1)iterating over a list of items\n",
    "2)performing operations on each item in a collection\n",
    "3) Looping through a range of numbers\n"
   ]
  },
  {
   "cell_type": "code",
   "execution_count": 16,
   "id": "6a417b27-58a0-4df0-af81-08829bb29342",
   "metadata": {},
   "outputs": [
    {
     "name": "stdout",
     "output_type": "stream",
     "text": [
      " \n",
      "p\n",
      "w\n",
      "_\n",
      "s\n",
      "k\n",
      "i\n",
      "l\n",
      "l\n",
      "s\n"
     ]
    }
   ],
   "source": [
    "for i in \" pw_skills\":\n",
    "    print(i)"
   ]
  },
  {
   "cell_type": "code",
   "execution_count": 20,
   "id": "2787e2dd-ed8f-4051-920a-0c86b4a487b8",
   "metadata": {},
   "outputs": [
    {
     "name": "stdout",
     "output_type": "stream",
     "text": [
      "1\n",
      "2\n",
      "3\n",
      "Roopa\n"
     ]
    }
   ],
   "source": [
    "l = [1,2,3,\"Roopa\"]\n",
    "for i in l:\n",
    "    print(i)"
   ]
  },
  {
   "cell_type": "code",
   "execution_count": 21,
   "id": "ee648981-d786-4628-8130-305eceb6ceb4",
   "metadata": {},
   "outputs": [
    {
     "name": "stdout",
     "output_type": "stream",
     "text": [
      "1\n",
      "2\n",
      "3\n",
      "Roopa\n",
      " this will be executed\n"
     ]
    }
   ],
   "source": [
    "for i in l:\n",
    "    print(i)\n",
    "else:\n",
    "    print(\"this will be executed\")"
   ]
  },
  {
   "cell_type": "code",
   "execution_count": 29,
   "id": "033bfecb-67cd-46ef-9a7e-bdedcb8cc6ec",
   "metadata": {},
   "outputs": [
    {
     "name": "stdout",
     "output_type": "stream",
     "text": [
      "1 , 2 , 3 , Roopa , this will be executed when for loop ends without break\n"
     ]
    }
   ],
   "source": [
    "for i in l:\n",
    "    if i==\"ajay\":\n",
    "        break\n",
    "    print(i, end=\" , \")\n",
    "else:\n",
    "    print(\"this will be executed when for loop ends without break\")"
   ]
  },
  {
   "cell_type": "code",
   "execution_count": 23,
   "id": "8865a347-b51a-4d1c-9ac7-820e33cf72c4",
   "metadata": {},
   "outputs": [
    {
     "data": {
      "text/plain": [
       "[0, 1, 2, 3, 4, 5, 6, 7, 8, 9]"
      ]
     },
     "execution_count": 23,
     "metadata": {},
     "output_type": "execute_result"
    }
   ],
   "source": [
    "list(range(0,10))"
   ]
  },
  {
   "cell_type": "code",
   "execution_count": 27,
   "id": "456157ef-e955-4d19-9200-4a84bc2203d6",
   "metadata": {},
   "outputs": [
    {
     "name": "stdout",
     "output_type": "stream",
     "text": [
      "0  1  2  3  4  5  6  7  8  9  "
     ]
    }
   ],
   "source": [
    "for i in range(10):\n",
    "    print(i, end=\"  \")"
   ]
  },
  {
   "cell_type": "code",
   "execution_count": 31,
   "id": "89082ae6-13bb-41df-b44f-0a2de8052736",
   "metadata": {},
   "outputs": [
    {
     "data": {
      "text/plain": [
       "[0, 5, 10, 15, 20, 25, 30, 35, 40, 45, 50, 55, 60, 65, 70, 75, 80, 85, 90, 95]"
      ]
     },
     "execution_count": 31,
     "metadata": {},
     "output_type": "execute_result"
    }
   ],
   "source": [
    "list(range(0,100,5))"
   ]
  },
  {
   "cell_type": "markdown",
   "id": "b7ebf712-f88d-49bc-a7fa-99db9b86eac2",
   "metadata": {},
   "source": [
    "problem statement"
   ]
  },
  {
   "cell_type": "code",
   "execution_count": 32,
   "id": "39c6e848-40b4-4e31-bd34-99983fb3329c",
   "metadata": {},
   "outputs": [
    {
     "name": "stdout",
     "output_type": "stream",
     "text": [
      "* \n",
      "* * \n",
      "* * * \n",
      "* * * * \n"
     ]
    }
   ],
   "source": [
    "for i in range(4):\n",
    "    for j in range(i+1):\n",
    "        print(\"*\", end=\" \")\n",
    "    print()"
   ]
  },
  {
   "cell_type": "code",
   "execution_count": null,
   "id": "06193e54-1e38-4f89-9c10-06009e28871a",
   "metadata": {},
   "outputs": [],
   "source": []
  },
  {
   "cell_type": "code",
   "execution_count": null,
   "id": "92181d4b-fc19-468e-9a04-867b32762b1a",
   "metadata": {},
   "outputs": [],
   "source": []
  },
  {
   "cell_type": "code",
   "execution_count": null,
   "id": "f63c3625-07f5-42d8-a8cb-3f7d01e227df",
   "metadata": {},
   "outputs": [],
   "source": []
  },
  {
   "cell_type": "code",
   "execution_count": null,
   "id": "fff73f50-ff3a-4f2b-a1b6-c4d1d3eb7a64",
   "metadata": {},
   "outputs": [],
   "source": []
  },
  {
   "cell_type": "code",
   "execution_count": null,
   "id": "5021972c-9055-4f2f-bfe6-00be00dc4a4b",
   "metadata": {},
   "outputs": [],
   "source": []
  },
  {
   "cell_type": "code",
   "execution_count": null,
   "id": "81faf8a4-d470-486e-95ca-4661ae17e231",
   "metadata": {},
   "outputs": [],
   "source": []
  },
  {
   "cell_type": "code",
   "execution_count": null,
   "id": "00947e3e-1a77-4617-bcfc-33f87a65ec78",
   "metadata": {},
   "outputs": [],
   "source": [
    "while loops: The while loop repeatedly executes a block of code as long as given condition is true\n",
    "use cases:\n",
    "1) repeating a block of code until a certain condition is met\n",
    "2) Infinite loops with break condition inside"
   ]
  },
  {
   "cell_type": "code",
   "execution_count": 1,
   "id": "73b4c5e6-9ee3-482b-981d-9c9902fc8c73",
   "metadata": {},
   "outputs": [
    {
     "name": "stdout",
     "output_type": "stream",
     "text": [
      "1\n",
      "2\n",
      "3\n",
      "4\n",
      "5\n",
      "6\n"
     ]
    }
   ],
   "source": [
    "n=7\n",
    "i=1\n",
    "while i<n:\n",
    "    print(i)\n",
    "    i=i+1\n",
    " "
   ]
  },
  {
   "cell_type": "code",
   "execution_count": 2,
   "id": "24889a68-6326-4aa0-befd-4bad31bd5142",
   "metadata": {},
   "outputs": [
    {
     "name": "stdout",
     "output_type": "stream",
     "text": [
      "5\n",
      "4\n",
      "3\n",
      "2\n",
      "1\n"
     ]
    }
   ],
   "source": [
    "count=5\n",
    "while count>0:\n",
    "    print(count)\n",
    "    count=count-1"
   ]
  },
  {
   "cell_type": "code",
   "execution_count": 6,
   "id": "a5e7163a-9172-4146-b6e4-dd80f7d76307",
   "metadata": {},
   "outputs": [
    {
     "name": "stdout",
     "output_type": "stream",
     "text": [
      "1\n",
      "2\n",
      "3\n",
      "4\n",
      "5\n",
      "6\n",
      "This will be executed when the while loop is run successfully without any break\n"
     ]
    }
   ],
   "source": [
    "n=7\n",
    "i=1\n",
    "while i<n:\n",
    "    print(i)\n",
    "    i=i+1\n",
    "else:\n",
    "    print(\"This will be executed when the while loop is run successfully without any break\")\n",
    "    "
   ]
  },
  {
   "cell_type": "code",
   "execution_count": 7,
   "id": "45c4953d-0e7a-431e-9f1c-572c6e975403",
   "metadata": {},
   "outputs": [
    {
     "name": "stdout",
     "output_type": "stream",
     "text": [
      "1\n",
      "2\n"
     ]
    }
   ],
   "source": [
    "n=7\n",
    "i=1\n",
    "while i<n:\n",
    "    print(i)\n",
    "    i=i+1\n",
    "    if i==3:\n",
    "        break"
   ]
  },
  {
   "cell_type": "code",
   "execution_count": 8,
   "id": "7feae8cc-daf1-4269-8a8f-2859d22c58de",
   "metadata": {},
   "outputs": [
    {
     "name": "stdout",
     "output_type": "stream",
     "text": [
      "1\n",
      "2\n",
      "2\n",
      "3\n",
      "4\n",
      "4\n",
      "5\n",
      "5\n",
      "6\n",
      "6\n",
      "7\n"
     ]
    }
   ],
   "source": [
    "n=7\n",
    "i=1\n",
    "while i<n:\n",
    "    print(i)\n",
    "    i=i+1\n",
    "    if i==3:\n",
    "        continue\n",
    "    print"
   ]
  },
  {
   "cell_type": "code",
   "execution_count": null,
   "id": "d0001fd1-7d9b-4efc-a888-bdf3e893f940",
   "metadata": {},
   "outputs": [],
   "source": []
  },
  {
   "cell_type": "code",
   "execution_count": null,
   "id": "dabec2ae-be59-4521-ac39-16ef3761e15c",
   "metadata": {},
   "outputs": [],
   "source": []
  },
  {
   "cell_type": "code",
   "execution_count": null,
   "id": "0e32009d-1fda-4e74-b288-5a26b7a35ae7",
   "metadata": {},
   "outputs": [],
   "source": []
  }
 ],
 "metadata": {
  "kernelspec": {
   "display_name": "Python 3 (ipykernel)",
   "language": "python",
   "name": "python3"
  },
  "language_info": {
   "codemirror_mode": {
    "name": "ipython",
    "version": 3
   },
   "file_extension": ".py",
   "mimetype": "text/x-python",
   "name": "python",
   "nbconvert_exporter": "python",
   "pygments_lexer": "ipython3",
   "version": "3.10.8"
  }
 },
 "nbformat": 4,
 "nbformat_minor": 5
}
